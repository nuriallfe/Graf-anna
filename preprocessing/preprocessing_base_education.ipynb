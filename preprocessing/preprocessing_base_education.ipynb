{
 "cells": [
  {
   "cell_type": "code",
   "execution_count": null,
   "id": "84bd568d",
   "metadata": {},
   "outputs": [
    {
     "name": "stdout",
     "output_type": "stream",
     "text": [
      "       STRUCTURE                STRUCTURE_ID ACTION FREQ FREQ_LABEL REF_AREA  \\\n",
      "0  datastructure  WB.DATA360:DS_DATA360(1.2)      I   _O      Other      ALB   \n",
      "1  datastructure  WB.DATA360:DS_DATA360(1.2)      I   _O      Other      ALB   \n",
      "2  datastructure  WB.DATA360:DS_DATA360(1.2)      I   _O      Other      ALB   \n",
      "3  datastructure  WB.DATA360:DS_DATA360(1.2)      I   _O      Other      ALB   \n",
      "4  datastructure  WB.DATA360:DS_DATA360(1.2)      I   _O      Other      ALB   \n",
      "\n",
      "  REF_AREA_LABEL                             INDICATOR  \\\n",
      "0        Albania  WB_SSGD_PCT_POP_PRIMARY_EDU_COMPLETE   \n",
      "1        Albania  WB_SSGD_PCT_POP_PRIMARY_EDU_COMPLETE   \n",
      "2        Albania  WB_SSGD_PCT_POP_PRIMARY_EDU_COMPLETE   \n",
      "3        Albania  WB_SSGD_PCT_POP_PRIMARY_EDU_COMPLETE   \n",
      "4        Albania  WB_SSGD_PCT_POP_PRIMARY_EDU_COMPLETE   \n",
      "\n",
      "                                     INDICATOR_LABEL SEX  ... UNIT_MULT_LABEL  \\\n",
      "0  Percentage of population with completed primar...  _T  ...           Units   \n",
      "1  Percentage of population with completed primar...   M  ...           Units   \n",
      "2  Percentage of population with completed primar...  _T  ...           Units   \n",
      "3  Percentage of population with completed primar...   M  ...           Units   \n",
      "4  Percentage of population with completed primar...  _T  ...           Units   \n",
      "\n",
      "  UNIT_TYPE UNIT_TYPE_LABEL TIME_FORMAT TIME_FORMAT_LABEL COMMENT_OBS  \\\n",
      "0     RATIO           Ratio         602              CCYY         NaN   \n",
      "1     RATIO           Ratio         602              CCYY         NaN   \n",
      "2     RATIO           Ratio         602              CCYY         NaN   \n",
      "3     RATIO           Ratio         602              CCYY         NaN   \n",
      "4     RATIO           Ratio         602              CCYY         NaN   \n",
      "\n",
      "  OBS_STATUS OBS_STATUS_LABEL OBS_CONF OBS_CONF_LABEL  \n",
      "0          A     Normal value       PU         Public  \n",
      "1          A     Normal value       PU         Public  \n",
      "2          A     Normal value       PU         Public  \n",
      "3          A     Normal value       PU         Public  \n",
      "4          A     Normal value       PU         Public  \n",
      "\n",
      "[5 rows x 40 columns]\n"
     ]
    }
   ],
   "source": [
    "#Get the database\n",
    "import pandas as pd\n",
    "df = pd.read_csv('base_education.csv')\n",
    "print(df.head())\n"
   ]
  },
  {
   "cell_type": "code",
   "execution_count": 8,
   "id": "b5e582b5",
   "metadata": {},
   "outputs": [],
   "source": [
    "#Get the interesting columns\n",
    "df = df[['REF_AREA_LABEL', 'SEX_LABEL', 'AGE_LABEL', 'URBANISATION_LABEL', 'TIME_PERIOD', 'OBS_VALUE']]\n"
   ]
  },
  {
   "cell_type": "code",
   "execution_count": 9,
   "id": "8d009966",
   "metadata": {},
   "outputs": [
    {
     "name": "stdout",
     "output_type": "stream",
     "text": [
      "  REF_AREA_LABEL SEX_LABEL                              AGE_LABEL  \\\n",
      "0        Albania     Total                     15 to 29 years old   \n",
      "1        Albania      Male  All age ranges or no breakdown by age   \n",
      "2        Albania     Total                  60 years old and over   \n",
      "3        Albania      Male  All age ranges or no breakdown by age   \n",
      "4        Albania     Total  All age ranges or no breakdown by age   \n",
      "\n",
      "  URBANISATION_LABEL  TIME_PERIOD  OBS_VALUE  \n",
      "0              Total         2020  99.497902  \n",
      "1              Total         2020  79.654404  \n",
      "2              Total         2018  75.268616  \n",
      "3              Total         2018  77.269592  \n",
      "4              Total         2018  76.535759  \n"
     ]
    }
   ],
   "source": [
    "print(df.head())\n"
   ]
  },
  {
   "cell_type": "code",
   "execution_count": 10,
   "id": "1b70e831",
   "metadata": {},
   "outputs": [
    {
     "name": "stdout",
     "output_type": "stream",
     "text": [
      "REF_AREA_LABEL        0\n",
      "SEX_LABEL             0\n",
      "AGE_LABEL             0\n",
      "URBANISATION_LABEL    0\n",
      "TIME_PERIOD           0\n",
      "OBS_VALUE             0\n",
      "dtype: int64\n"
     ]
    }
   ],
   "source": [
    "# Find the missing values\n",
    "print(df.isnull().sum())\n"
   ]
  },
  {
   "cell_type": "code",
   "execution_count": 11,
   "id": "86c04c79",
   "metadata": {},
   "outputs": [],
   "source": [
    "#Save the cleaned data\n",
    "df.to_csv('base_education_cleaned.csv', index=False)"
   ]
  }
 ],
 "metadata": {
  "kernelspec": {
   "display_name": "Python 3",
   "language": "python",
   "name": "python3"
  },
  "language_info": {
   "codemirror_mode": {
    "name": "ipython",
    "version": 3
   },
   "file_extension": ".py",
   "mimetype": "text/x-python",
   "name": "python",
   "nbconvert_exporter": "python",
   "pygments_lexer": "ipython3",
   "version": "3.11.9"
  }
 },
 "nbformat": 4,
 "nbformat_minor": 5
}
