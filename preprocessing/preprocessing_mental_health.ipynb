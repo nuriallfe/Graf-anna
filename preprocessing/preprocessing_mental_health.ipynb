{
 "cells": [
  {
   "cell_type": "code",
   "execution_count": 3,
   "id": "3a3171ae",
   "metadata": {},
   "outputs": [],
   "source": [
    "import pandas as pd"
   ]
  },
  {
   "cell_type": "code",
   "execution_count": 4,
   "id": "958e01c3",
   "metadata": {},
   "outputs": [],
   "source": [
    "# read csv\n",
    "mental_health = pd.read_csv(\"C:/Users/FX517/OneDrive - Universitat Politècnica de Catalunya/Escritorio/Hackathons/Hack2025/Mental Health Dataset.csv\")"
   ]
  },
  {
   "cell_type": "code",
   "execution_count": 5,
   "id": "a270ce8f",
   "metadata": {},
   "outputs": [
    {
     "data": {
      "text/html": [
       "<div>\n",
       "<style scoped>\n",
       "    .dataframe tbody tr th:only-of-type {\n",
       "        vertical-align: middle;\n",
       "    }\n",
       "\n",
       "    .dataframe tbody tr th {\n",
       "        vertical-align: top;\n",
       "    }\n",
       "\n",
       "    .dataframe thead th {\n",
       "        text-align: right;\n",
       "    }\n",
       "</style>\n",
       "<table border=\"1\" class=\"dataframe\">\n",
       "  <thead>\n",
       "    <tr style=\"text-align: right;\">\n",
       "      <th></th>\n",
       "      <th>Timestamp</th>\n",
       "      <th>Gender</th>\n",
       "      <th>Country</th>\n",
       "      <th>Occupation</th>\n",
       "      <th>self_employed</th>\n",
       "      <th>family_history</th>\n",
       "      <th>treatment</th>\n",
       "      <th>Days_Indoors</th>\n",
       "      <th>Growing_Stress</th>\n",
       "      <th>Changes_Habits</th>\n",
       "      <th>Mental_Health_History</th>\n",
       "      <th>Mood_Swings</th>\n",
       "      <th>Coping_Struggles</th>\n",
       "      <th>Work_Interest</th>\n",
       "      <th>Social_Weakness</th>\n",
       "      <th>mental_health_interview</th>\n",
       "      <th>care_options</th>\n",
       "    </tr>\n",
       "  </thead>\n",
       "  <tbody>\n",
       "    <tr>\n",
       "      <th>0</th>\n",
       "      <td>8/27/2014 11:29</td>\n",
       "      <td>Female</td>\n",
       "      <td>United States</td>\n",
       "      <td>Corporate</td>\n",
       "      <td>NaN</td>\n",
       "      <td>No</td>\n",
       "      <td>Yes</td>\n",
       "      <td>1-14 days</td>\n",
       "      <td>Yes</td>\n",
       "      <td>No</td>\n",
       "      <td>Yes</td>\n",
       "      <td>Medium</td>\n",
       "      <td>No</td>\n",
       "      <td>No</td>\n",
       "      <td>Yes</td>\n",
       "      <td>No</td>\n",
       "      <td>Not sure</td>\n",
       "    </tr>\n",
       "    <tr>\n",
       "      <th>1</th>\n",
       "      <td>8/27/2014 11:31</td>\n",
       "      <td>Female</td>\n",
       "      <td>United States</td>\n",
       "      <td>Corporate</td>\n",
       "      <td>NaN</td>\n",
       "      <td>Yes</td>\n",
       "      <td>Yes</td>\n",
       "      <td>1-14 days</td>\n",
       "      <td>Yes</td>\n",
       "      <td>No</td>\n",
       "      <td>Yes</td>\n",
       "      <td>Medium</td>\n",
       "      <td>No</td>\n",
       "      <td>No</td>\n",
       "      <td>Yes</td>\n",
       "      <td>No</td>\n",
       "      <td>No</td>\n",
       "    </tr>\n",
       "    <tr>\n",
       "      <th>2</th>\n",
       "      <td>8/27/2014 11:32</td>\n",
       "      <td>Female</td>\n",
       "      <td>United States</td>\n",
       "      <td>Corporate</td>\n",
       "      <td>NaN</td>\n",
       "      <td>Yes</td>\n",
       "      <td>Yes</td>\n",
       "      <td>1-14 days</td>\n",
       "      <td>Yes</td>\n",
       "      <td>No</td>\n",
       "      <td>Yes</td>\n",
       "      <td>Medium</td>\n",
       "      <td>No</td>\n",
       "      <td>No</td>\n",
       "      <td>Yes</td>\n",
       "      <td>No</td>\n",
       "      <td>Yes</td>\n",
       "    </tr>\n",
       "    <tr>\n",
       "      <th>3</th>\n",
       "      <td>8/27/2014 11:37</td>\n",
       "      <td>Female</td>\n",
       "      <td>United States</td>\n",
       "      <td>Corporate</td>\n",
       "      <td>No</td>\n",
       "      <td>Yes</td>\n",
       "      <td>Yes</td>\n",
       "      <td>1-14 days</td>\n",
       "      <td>Yes</td>\n",
       "      <td>No</td>\n",
       "      <td>Yes</td>\n",
       "      <td>Medium</td>\n",
       "      <td>No</td>\n",
       "      <td>No</td>\n",
       "      <td>Yes</td>\n",
       "      <td>Maybe</td>\n",
       "      <td>Yes</td>\n",
       "    </tr>\n",
       "    <tr>\n",
       "      <th>4</th>\n",
       "      <td>8/27/2014 11:43</td>\n",
       "      <td>Female</td>\n",
       "      <td>United States</td>\n",
       "      <td>Corporate</td>\n",
       "      <td>No</td>\n",
       "      <td>Yes</td>\n",
       "      <td>Yes</td>\n",
       "      <td>1-14 days</td>\n",
       "      <td>Yes</td>\n",
       "      <td>No</td>\n",
       "      <td>Yes</td>\n",
       "      <td>Medium</td>\n",
       "      <td>No</td>\n",
       "      <td>No</td>\n",
       "      <td>Yes</td>\n",
       "      <td>No</td>\n",
       "      <td>Yes</td>\n",
       "    </tr>\n",
       "  </tbody>\n",
       "</table>\n",
       "</div>"
      ],
      "text/plain": [
       "         Timestamp  Gender        Country Occupation self_employed  \\\n",
       "0  8/27/2014 11:29  Female  United States  Corporate           NaN   \n",
       "1  8/27/2014 11:31  Female  United States  Corporate           NaN   \n",
       "2  8/27/2014 11:32  Female  United States  Corporate           NaN   \n",
       "3  8/27/2014 11:37  Female  United States  Corporate            No   \n",
       "4  8/27/2014 11:43  Female  United States  Corporate            No   \n",
       "\n",
       "  family_history treatment Days_Indoors Growing_Stress Changes_Habits  \\\n",
       "0             No       Yes    1-14 days            Yes             No   \n",
       "1            Yes       Yes    1-14 days            Yes             No   \n",
       "2            Yes       Yes    1-14 days            Yes             No   \n",
       "3            Yes       Yes    1-14 days            Yes             No   \n",
       "4            Yes       Yes    1-14 days            Yes             No   \n",
       "\n",
       "  Mental_Health_History Mood_Swings Coping_Struggles Work_Interest  \\\n",
       "0                   Yes      Medium               No            No   \n",
       "1                   Yes      Medium               No            No   \n",
       "2                   Yes      Medium               No            No   \n",
       "3                   Yes      Medium               No            No   \n",
       "4                   Yes      Medium               No            No   \n",
       "\n",
       "  Social_Weakness mental_health_interview care_options  \n",
       "0             Yes                      No     Not sure  \n",
       "1             Yes                      No           No  \n",
       "2             Yes                      No          Yes  \n",
       "3             Yes                   Maybe          Yes  \n",
       "4             Yes                      No          Yes  "
      ]
     },
     "metadata": {},
     "output_type": "display_data"
    }
   ],
   "source": [
    "# check the first rows\n",
    "display(mental_health.head())"
   ]
  },
  {
   "cell_type": "markdown",
   "id": "d02b30c8",
   "metadata": {},
   "source": [
    "### Missings"
   ]
  },
  {
   "cell_type": "code",
   "execution_count": 6,
   "id": "84f9c3f8",
   "metadata": {},
   "outputs": [
    {
     "data": {
      "text/plain": [
       "self_employed    5202\n",
       "dtype: int64"
      ]
     },
     "execution_count": 6,
     "metadata": {},
     "output_type": "execute_result"
    }
   ],
   "source": [
    "# check for missing values\n",
    "missing_values = mental_health.isnull().sum()\n",
    "\n",
    "# show the missing values\n",
    "missing_values[missing_values > 0]"
   ]
  },
  {
   "cell_type": "code",
   "execution_count": 7,
   "id": "75b9617e",
   "metadata": {},
   "outputs": [
    {
     "data": {
      "text/plain": [
       "Series([], dtype: int64)"
      ]
     },
     "execution_count": 7,
     "metadata": {},
     "output_type": "execute_result"
    }
   ],
   "source": [
    "# missing values for self_employed to be filled with 'Not sure'\n",
    "mental_health.fillna({'self_employed':'Not sure'}, inplace=True)\n",
    "\n",
    "# show the missing values again\n",
    "missing_values = mental_health.isnull().sum()\n",
    "\n",
    "# show the missing values\n",
    "missing_values[missing_values > 0]"
   ]
  },
  {
   "cell_type": "markdown",
   "id": "4bc40c4a",
   "metadata": {},
   "source": [
    "### Unique values"
   ]
  },
  {
   "cell_type": "code",
   "execution_count": 8,
   "id": "9bdaa49a",
   "metadata": {},
   "outputs": [
    {
     "name": "stdout",
     "output_type": "stream",
     "text": [
      "Gender: ['Female' 'Male']\n",
      "Country: ['United States' 'Poland' 'Australia' 'Canada' 'United Kingdom'\n",
      " 'South Africa' 'Sweden' 'New Zealand' 'Netherlands' 'India' 'Belgium'\n",
      " 'Ireland' 'France' 'Portugal' 'Brazil' 'Costa Rica' 'Russia' 'Germany'\n",
      " 'Switzerland' 'Finland' 'Israel' 'Italy' 'Bosnia and Herzegovina'\n",
      " 'Singapore' 'Nigeria' 'Croatia' 'Thailand' 'Denmark' 'Mexico' 'Greece'\n",
      " 'Moldova' 'Colombia' 'Georgia' 'Czech Republic' 'Philippines']\n",
      "Occupation: ['Corporate' 'Student' 'Business' 'Housewife' 'Others']\n",
      "self_employed: ['Not sure' 'No' 'Yes']\n",
      "family_history: ['No' 'Yes']\n",
      "treatment: ['Yes' 'No']\n",
      "Days_Indoors: ['1-14 days' 'Go out Every day' 'More than 2 months' '15-30 days'\n",
      " '31-60 days']\n",
      "Growing_Stress: ['Yes' 'No' 'Maybe']\n",
      "Changes_Habits: ['No' 'Yes' 'Maybe']\n",
      "Mental_Health_History: ['Yes' 'No' 'Maybe']\n",
      "Mood_Swings: ['Medium' 'Low' 'High']\n",
      "Coping_Struggles: ['No' 'Yes']\n",
      "Work_Interest: ['No' 'Maybe' 'Yes']\n",
      "Social_Weakness: ['Yes' 'No' 'Maybe']\n",
      "mental_health_interview: ['No' 'Maybe' 'Yes']\n",
      "care_options: ['Not sure' 'No' 'Yes']\n"
     ]
    }
   ],
   "source": [
    "# check unique values for the columns\n",
    "mental_health.nunique()\n",
    "\n",
    "# check the unique values for the columns\n",
    "for col in mental_health.columns:\n",
    "    if col not in ['Timestamp', 'work_interfere']:\n",
    "        print(f\"{col}: {mental_health[col].unique()}\")\n",
    "\n"
   ]
  },
  {
   "cell_type": "code",
   "execution_count": 9,
   "id": "78578cbf",
   "metadata": {},
   "outputs": [
    {
     "data": {
      "text/plain": [
       "Timestamp                  datetime64[ns]\n",
       "Gender                             object\n",
       "Country                            object\n",
       "Occupation                         object\n",
       "self_employed                      object\n",
       "family_history                     object\n",
       "treatment                          object\n",
       "Days_Indoors                       object\n",
       "Growing_Stress                     object\n",
       "Changes_Habits                     object\n",
       "Mental_Health_History              object\n",
       "Mood_Swings                        object\n",
       "Coping_Struggles                   object\n",
       "Work_Interest                      object\n",
       "Social_Weakness                    object\n",
       "mental_health_interview            object\n",
       "care_options                       object\n",
       "dtype: object"
      ]
     },
     "execution_count": 9,
     "metadata": {},
     "output_type": "execute_result"
    }
   ],
   "source": [
    "# timestamp column to be converted to datetime\n",
    "mental_health['Timestamp'] = pd.to_datetime(mental_health['Timestamp'], format='%m/%d/%Y %H:%M')\n",
    "\n",
    "# check the data types\n",
    "mental_health.dtypes"
   ]
  },
  {
   "cell_type": "code",
   "execution_count": 11,
   "id": "df54cdfa",
   "metadata": {},
   "outputs": [],
   "source": [
    "# mental_health to be saved to a new csv file\n",
    "mental_health.to_csv(\"C:/Users/FX517/OneDrive - Universitat Politècnica de Catalunya/Escritorio/Hackathons/Hack2025/Grefusa/data/mental_health_cleaned.csv\", index=False)"
   ]
  }
 ],
 "metadata": {
  "kernelspec": {
   "display_name": "Python 3",
   "language": "python",
   "name": "python3"
  },
  "language_info": {
   "codemirror_mode": {
    "name": "ipython",
    "version": 3
   },
   "file_extension": ".py",
   "mimetype": "text/x-python",
   "name": "python",
   "nbconvert_exporter": "python",
   "pygments_lexer": "ipython3",
   "version": "3.12.8"
  }
 },
 "nbformat": 4,
 "nbformat_minor": 5
}
